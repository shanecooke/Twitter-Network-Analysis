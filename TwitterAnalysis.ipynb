{
 "cells": [
  {
   "cell_type": "markdown",
   "metadata": {},
   "source": [
    "# COMP30850 - Network Analysis\n",
    "## Assignment 2\n",
    "### Shane Cooke - 17400206\n",
    "\n",
    "In order to complete this assignment, I have written code which parses in \"friendships.csv\" and \"tweets.jsonl\", cleans the datasets, isolates necessary information, stores this information and plots networks using this data. I have also written code that provides some of the characteristics of these networks, and some of these characteristics are also plotted on graphs. Comments are provided to describe what each line of code does, and mark-down cells are used to describe what each block of code does, and what result we get from running that block.  The specific question being answered by each block of code can be found in the first line of the output after that block has been run and also in the markdown cells."
   ]
  },
  {
   "cell_type": "code",
   "execution_count": null,
   "metadata": {
    "scrolled": false
   },
   "outputs": [],
   "source": [
    "import pandas as pd\n",
    "import json\n",
    "import networkx as nx\n",
    "from pylab import rcParams\n",
    "import itertools\n",
    "import matplotlib\n",
    "import matplotlib.pyplot as plt\n",
    "import numpy as np\n",
    "\n",
    "class color: #Creates a color class to edit the colour of output text.\n",
    "   RED = '\\033[91m'\n",
    "   BOLD = '\\033[1m'\n",
    "   UNDERLINE = '\\033[4m'\n",
    "   END = '\\033[0m'\n",
    "    \n",
    "print(color.RED+color.BOLD+color.UNDERLINE+ 'Question 1 - Follower Network:' + color.END) #Prints the title of the block.\n",
    "    \n",
    "rcParams['figure.figsize'] = 10,10 #Sets the size parameters for the graph.\n",
    "follower_net = nx.read_edgelist( \"friendships.csv\" , delimiter = \"\\t\", create_using=nx.DiGraph) #Reads the nodes and edges from 'friendships.csv' and creates a directed network from them.\n",
    "\n",
    "degrees = follower_net.degree() #Creates a list of degrees.\n",
    "nodes = follower_net.nodes() #Creates a list of nodes.\n",
    "n_color = np.asarray([degrees[n] for n in nodes]) #Creates a list of colours based on the degree of the node.\n",
    "\n",
    "nx.draw_spring(follower_net, node_size=500, width=1, with_labels=True) #Draws the graph and sets node size, edge weight and labels.\n",
    "#nx.draw_spring(follower_net, node_size=500, width=1, node_color=n_color, cmap='plasma', with_labels=True) #Draws the same graph with nodes coloured by degree."
   ]
  },
  {
   "cell_type": "code",
   "execution_count": null,
   "metadata": {
    "scrolled": false
   },
   "outputs": [],
   "source": [
    "print(color.RED+color.BOLD+color.UNDERLINE+ 'Question 1 - Follower Network Characteristics:\\n' + color.END) #Prints the title of the block.\n",
    "\n",
    "#for e in follower_net.edges(data=True): #Prints all edges and weights of the follower network.\n",
    "#    print(e)\n",
    "    \n",
    "def top10_attributes(network, attribute): #Function to find the top 10 values for degree-centrality or betweenness centrailty.\n",
    "    if attribute == 'degree_centrality':  #This function prints the top 10 values and then plots them on a bar-chart.\n",
    "        print(color.BOLD+'Top 10 In-Degrees:'+color.END)\n",
    "        in_deg = pd.Series(dict( nx.in_degree_centrality(network) ), name=\"in-degree\") #Creates a series of in-degrees.\n",
    "        print(pd.DataFrame(in_deg).sort_values(by=\"in-degree\", ascending=False).head(10)) #Prints the top 10 values for in-degree in ascending order.\n",
    "        in_deg.nlargest(10).plot.bar(figsize=(10,5), fontsize=14, legend=None, color=\"blue\", edgecolor='black', ylabel='In-Degree') #Creats a bar-chart plot of the top 10 in-degrees.\n",
    "        plt.show()\n",
    "    if attribute == 'betweenness_centrality':\n",
    "        print(color.BOLD+'Top 10 Betweenness Centralities:'+color.END)\n",
    "        between = pd.Series(dict( nx.betweenness_centrality(network) ), name=\"betweenness\") #Creates a series of betweenness centralities.\n",
    "        print(pd.DataFrame(between).sort_values(by=\"betweenness\", ascending=False).head(10)) #Prints the top 10 values for betweenness centrality in ascending order.\n",
    "        between.nlargest(10).plot.bar(figsize=(10,5), fontsize=14, legend=None, color=\"green\", edgecolor='black', ylabel='Betweenness Centrality') #Creats a bar-chart plot of the top 10 betweenness centralities.\n",
    "        plt.show()\n",
    "        print('\\n') #Prints a blank line.\n",
    "    if attribute == 'out_degree':\n",
    "        print(color.BOLD+'Top 10 Out-Degrees:'+color.END)\n",
    "        out_deg = pd.Series(dict( network.out_degree(network) ), name=\"out-degree\") #Creates a series of out-degrees.\n",
    "        print(pd.DataFrame(out_deg).sort_values(by=\"out-degree\", ascending=False).head(10)) #Prints the top 10 values for out-degree in ascending order.\n",
    "        out_deg.nlargest(10).plot.bar(figsize=(10,5), fontsize=14, legend=None, color=\"orange\", edgecolor='black', ylabel='Out-Degree') #Creats a bar-chart plot of the top 10 out-degrees.\n",
    "        plt.show()\n",
    "    if attribute == 'weighted_out_degree':\n",
    "        print(color.BOLD+'Top 10 Weighted Out-Degrees:'+color.END)\n",
    "        wout_deg = pd.Series(dict( network.out_degree(weight=\"weight\") ), name=\"weighted out-degree\") #Creates a series of weighted out-degrees.\n",
    "        print(pd.DataFrame(wout_deg).sort_values(by=\"weighted out-degree\", ascending=False).head(10)) #Prints the top 10 values for weighted out-degree in ascending order.\n",
    "        wout_deg.nlargest(10).plot.bar(figsize=(10,5), fontsize=14, legend=None, color=\"purple\", edgecolor='black', ylabel='Weighted Out-Degree') #Creats a bar-chart plot of the top 10 weighted out-degrees.\n",
    "        plt.show()\n",
    "        \n",
    "print(\"This network has %d nodes and %d edges\" % (follower_net.number_of_nodes(), follower_net.number_of_edges())) #Finds the number of nodes and edges in the network.\n",
    "print(\"The Density of this network is: %.2f\" % nx.density(follower_net) ) #Finds the density of the network.\n",
    "print(\"The Reciprocity of this network is: %.2f\\n\" % nx.reciprocity(follower_net) ) #Finds the reciprocity of the network.\n",
    "\n",
    "follower_net2 = follower_net.to_undirected( reciprocal=True ) #Converts the directed network to an undirected network.\n",
    "print(\"When converted to an undirected network this network has %d nodes and %d edges\\n\\n\" % (follower_net2.number_of_nodes(), follower_net2.number_of_edges())) #Finds the number of nodes and edges in the undirected network.\n",
    "\n",
    "top10_attributes(follower_net,'degree_centrality') #Calls our top10_attributes function for 'follower_net' and 'degree_centrality'.\n",
    "#top10_attributes(follower_net,'betweenness_centrality') #Calls our top10_attributes function for 'follower_net' and 'betweenness_centrality'.\n",
    "top10_attributes(follower_net,'out_degree')"
   ]
  },
  {
   "cell_type": "markdown",
   "metadata": {},
   "source": [
    "**Question 1 - Code Description**\\\n",
    "\\\n",
    "The above block of code begins by importing all of the modules necessary for this assignment. I then created a `color` class which is used for changing the colour and format of some outputted text. After printing a title for the block of code, I then set the parameters for the network graph and printed it in a spring layout.\\\n",
    "\\\n",
    "In order to characterise this network, I began by writing a `for` loop that outputs all edges and weights from the network graph. I then wrote a function that prints the top 10 chosen attributes. The user inputs either `degree_centrality`, `betweenness_centrality`, `out_degree` or `weighted_out_degree` and then the function returns these values and a graph to go with it. Next, I wrote three queries that find the number of nodes and edges, the density and the reciprocity of the network. I then coverted the inital directed network into an undirected network and counted the new number of nodes and edges. I also wrote a small piece of code that outputs the top 10 out-degrees along with a graph representation. Finally, I called three instances of the `top10_attributes` function to print the degree centrality and betweenness centrality of the network."
   ]
  },
  {
   "cell_type": "code",
   "execution_count": null,
   "metadata": {
    "scrolled": false
   },
   "outputs": [],
   "source": [
    "print(color.RED+color.BOLD+color.UNDERLINE+ 'Question 2 - Reply Network:' + color.END) #Prints the title of the block.\n",
    "\n",
    "fin = open( \"tweets.jsonl\", \"r\" ) #Opens the 'tweets.jsonl' file as fin.\n",
    "\n",
    "tweets = [] #Creates an empty list called tweets.\n",
    "for line in fin.readlines(): #For loop that iterates over every line in the file.\n",
    "    line = line.strip() #Returns a copy of the string by removing both the leading and the trailing characters.\n",
    "    tweet = json.loads(line) #Parses the line using the json.loads() function.\n",
    "    tweets.append(tweet) #Appends each tweet onto the list of tweets.\n",
    "fin.close() #Closes the input file.\n",
    "\n",
    "temp_reply = [] #Creates an empty list for temporary use.\n",
    "replied_to = [] #Creates an empty list for who the tweet was in reply to.\n",
    "names_reply = [] #Creates an empty list for the names of those who tweeted.\n",
    "\n",
    "for i in range (0,len(tweets)): #For loop to iterate through all of the tweets.\n",
    "    if (tweets[i]['in_reply_to_screen_name']): #If the tweet was in reply to someone.\n",
    "        replied_to.append(tweets[i]['in_reply_to_screen_name']) #Append this name to the list of people who were replied to.\n",
    "        names_reply.append(tweets[i]['user']['screen_name']) #Append the name of the person who tweeted to the list of people who tweeted.\n",
    "\n",
    "reply_net = nx.DiGraph() #Creates a directed graph called reply_net.\n",
    "       \n",
    "for i in range(0,len(names_reply)): #For loop to iterate through all of the names of those who tweeted.\n",
    "    if reply_net.has_edge(names_reply[i], replied_to[i]): #If there is already an edge between two names.\n",
    "        reply_net[names_reply[i]] [replied_to[i]]['weight']+=1 #Increase the edge weight by 1.\n",
    "    else:\n",
    "        reply_net.add_edge(names_reply[i], replied_to[i], weight = 1) #Else create a new edge with weight 1.\n",
    "        \n",
    "rcParams['figure.figsize'] = 10,10\n",
    "\n",
    "degrees = reply_net.degree() #Creates a list of degrees.\n",
    "nodes = reply_net.nodes() #Creates a list of nodes.\n",
    "n_color = np.asarray([degrees[n] for n in nodes]) #Creates a list of colours based on the degree of the node.\n",
    "\n",
    "nx.draw_spring(reply_net, node_size=50, width=0.2) #Draws the graph and sets node size, edge weight and labels.\n",
    "#nx.draw_spring(reply_net, node_size=50, width=0.2, node_color=n_color, cmap='plasma') #Draws the same graph with nodes coloured by degree."
   ]
  },
  {
   "cell_type": "code",
   "execution_count": null,
   "metadata": {
    "scrolled": false
   },
   "outputs": [],
   "source": [
    "print(color.RED+color.BOLD+color.UNDERLINE+ 'Question 2 - Reply Network Characteristics:\\n' + color.END) #Prints the title of the block.\n",
    "\n",
    "#for e in reply_net.edges(data=True): #Prints all edges and weights of the reply network.\n",
    "#    print(e)\n",
    "\n",
    "print(\"This network has %d nodes and %d edges\" % (reply_net.number_of_nodes(), reply_net.number_of_edges())) #Finds the number of nodes and edges in the network.\n",
    "print(\"The Density of this network is: %.4f\" % nx.density(reply_net) ) #Finds the density of the network.\n",
    "\n",
    "reply_net2 = reply_net.to_undirected( reciprocal=True ) #Converts the directed network to an undirected network.\n",
    "print(\"When converted to an undirected network this network has %d nodes and %d edges\\n\\n\" % (reply_net2.number_of_nodes(), reply_net2.number_of_edges())) #Finds the number of nodes and edges in the undirected network.\n",
    "\n",
    "top10_attributes(reply_net,'degree_centrality') #Calls our top10_attributes function for 'follower_net' and 'degree_centrality'.\n",
    "#top10_attributes(reply_net,'betweenness_centrality') #Calls our top10_attributes function for 'follower_net' and 'betweenness_centrality'.\n",
    "#top10_attributes(reply_net,'out_degree')\n",
    "top10_attributes(reply_net,'weighted_out_degree')"
   ]
  },
  {
   "cell_type": "markdown",
   "metadata": {},
   "source": [
    "\\\n",
    "**Question 2 - Code Description**\\\n",
    "\\\n",
    "For the above block of code, I began by opening the `tweets.jsonl` file as `fin`. I then parsed this data into the list `tweets` using the `.strip()`, `.loads()` and `.append()` functions. I then created three empty lists necessary for cleaning the dataset and isolating specific lines of data. After this, I used a `for` loop to iterate through the list of tweets and isolate the screen name that had been replied to. I appended this name to a list of names that had been replied to, and appended the name of the author of the tweet to another list. I then created a directed graph, and used another `for` loop to add edges between the two previously mentioned lists. If an edge already exists, the weight is increased by one, and if it does not exist it is created with an initial weight of one. Finally, I set the parameters for the network graph and printed it in a spring layout.\\\n",
    "\\\n",
    "In order to characterise this network, I began by writing a `for` loop that outputs all edges and weights from the network graph. I then found the number of nodes and edges, along with the density of the network. I then created a new undirected network from the inital directed network and counted the number of nodes and edges in this new network. I also wrote a small piece of code that outputs the top 10 out-degrees along with a graph representation. Finally, I called four instances of the `top10_attributes` function to print the degree centrality and betweenness centrality of the network."
   ]
  },
  {
   "cell_type": "code",
   "execution_count": null,
   "metadata": {
    "scrolled": false
   },
   "outputs": [],
   "source": [
    "print(color.RED+color.BOLD+color.UNDERLINE+ 'Question 3 - Mention Network:' + color.END) #Prints the title of the block.\n",
    "\n",
    "temp_list = [] #Creates an empty list for temporary use.\n",
    "mentioned = [] #Creates an empty list for who the people mentioned.\n",
    "names = [] #Creates an empty list for the names of those who mentioned people in their tweets.\n",
    "\n",
    "for i in range (0,len(tweets)): #For loop to iterate through all of the tweets.\n",
    "    for x in range (0, len(tweets[i]['entities']['user_mentions'])): #Nested for loop to iterate through the list of people who were mentioned.\n",
    "        if (tweets[i]['entities']['user_mentions'][x]['screen_name']): #If there was a user mentioned in the tweet.\n",
    "            temp_list.append(tweets[i]['entities']['user_mentions'][x]['screen_name']) #Append this name to the temporary list of people who were mentioned.\n",
    "    if temp_list: #If the temp list is not null.\n",
    "        mentioned.append(temp_list) #Append the temporary list to the full list of people mentioned.\n",
    "        names.append(tweets[i]['user']['screen_name']) #Appends the name of the person who mentioned others to the list of names.\n",
    "        temp_list = [] #Reset the temporary list.\n",
    "\n",
    "mention_net = nx.DiGraph() #Creates a directed graph called mention_net.\n",
    "        \n",
    "for i in range(0,len(names)): #For loop to iterate through all of the names of those who mentioned others.\n",
    "    for x in range (0,len(mentioned[i])): #Nested for loop to iterate through the list of people who where mentioned.\n",
    "        if mention_net.has_edge(names[i], mentioned[i][x]):  #If there is already an edge between two names.\n",
    "            mention_net[names[i]] [mentioned[i][x]]['weight']+=1 #Increase the edge weight by 1.\n",
    "        else:\n",
    "            mention_net.add_edge(names[i], mentioned[i][x], weight = 1) #Else create a new edge with weight 1.\n",
    "\n",
    "degrees = mention_net.degree() #Creates a list of degrees.\n",
    "nodes = mention_net.nodes() #Creates a list of nodes.\n",
    "n_color = np.asarray([degrees[n] for n in nodes]) #Creates a list of colours based on the degree of the node.            \n",
    "\n",
    "rcParams['figure.figsize'] = 10,10\n",
    "#nx.draw_spring(mention_net, node_size=50, width=0.2) #Draws the graph and sets node size, edge weight and labels.\n",
    "nx.draw_spring(mention_net, node_size=50, width=0.2, node_color=n_color, cmap='plasma') #Draws the same graph with nodes coloured by degree."
   ]
  },
  {
   "cell_type": "code",
   "execution_count": null,
   "metadata": {
    "scrolled": false
   },
   "outputs": [],
   "source": [
    "print(color.RED+color.BOLD+color.UNDERLINE+ 'Question 3 - Mention Network Characteristics:\\n' + color.END) #Prints the title of the block.\n",
    "\n",
    "#for e in mention_net.edges(data=True): #Prints all edges and weights of the mention network.\n",
    "#    print(e)\n",
    "\n",
    "print(\"This network has %d nodes and %d edges\" % (mention_net.number_of_nodes(), mention_net.number_of_edges())) #Finds the number of nodes and edges in the network.\n",
    "print(\"The Density of this network is: %.4f\" % nx.density(mention_net) ) #Finds the density of the network.\n",
    "print(\"The Reciprocity of this network is: %.4f\" % nx.reciprocity(mention_net) ) #Finds the reciprocity of the network.\n",
    "\n",
    "mention_net2 = mention_net.to_undirected( reciprocal=True ) #Converts the directed network to an undirected network.\n",
    "print(\"When converted to an undirected network this network has %d nodes and %d edges\\n\" % (mention_net2.number_of_nodes(), mention_net2.number_of_edges())) #Finds the number of nodes and edges in the undirected network.\n",
    "\n",
    "#top10_attributes(mention_net,'degree_centrality') #Calls our top10_attributes function for 'follower_net' and 'degree_centrality'.\n",
    "top10_attributes(mention_net,'betweenness_centrality') #Calls our top10_attributes function for 'follower_net' and 'betweenness_centrality'.\n",
    "#top10_attributes(mention_net,'out_degree')\n",
    "top10_attributes(mention_net,'weighted_out_degree')"
   ]
  },
  {
   "cell_type": "markdown",
   "metadata": {},
   "source": [
    "\\\n",
    "**Question 3 - Code Description**\\\n",
    "\\\n",
    "For the above block of code, I began by creating three empty lists necessary for cleaning the dataset and isolating specific lines of data.  After this, I used a nested `for` loop to iterate through the list of tweets and isolate the screen name of the user that had been mentioned. I appended this name to a list of names that had been mentioned, and appended the name of the author of the tweet to another list. I then created a directed graph, and used another `for` loop to add edges between the two previously mentioned lists. If an edge already exists, the weight is increased by one, and if it does not exist it is created with an initial weight of one. Finally, I set the parameters for the network graph and printed it in a spring layout.\\\n",
    "\\\n",
    "In order to characterise this network, I began by writing a `for` loop that outputs all edges and weights from the network graph. I then found the number of nodes and edges, along with the density and reciprocity of the network. I then created a new undirected network from the inital directed network and counted the number of nodes and edges in this new network. I also wrote a small piece of code that outputs the top 10 out-degrees along with a graph representation. Finally, I called four instances of the `top10_attributes` function to print the degree centrality and betweenness centrality of the network."
   ]
  },
  {
   "cell_type": "code",
   "execution_count": null,
   "metadata": {
    "scrolled": false
   },
   "outputs": [],
   "source": [
    "print(color.RED+color.BOLD+color.UNDERLINE+ 'Question 4 - User-Hashtag Network:' + color.END) #Prints the title of the block.\n",
    "\n",
    "temp_hashtags = [] #Creates an empty list for temporary use.\n",
    "hashtags = [] #Creates an empty list for the hashtags used in tweets.\n",
    "hash_names = []#Creates an empty list for the names of those who used the hashtags.\n",
    "\n",
    "for i in range (0,len(tweets)): #For loop to iterate through all of the tweets.\n",
    "    for x in range (0, len(tweets[i]['entities']['hashtags'])): #Nested for loop to iterate through the list of hashtags.\n",
    "        if (tweets[i]['entities']['hashtags'][x]['text']): #If there was a hashtag used in the tweet.\n",
    "            temp_hashtags.append(tweets[i]['entities']['hashtags'][x]['text']) #Append this hashtag to the temporary list of used hashtags.\n",
    "    if temp_hashtags: #If the temp list is not null.\n",
    "        hashtags.append(temp_hashtags) #Append the temporary list to the full list of hashtags.\n",
    "        hash_names.append(tweets[i]['user']['screen_name']) #Appends the name of the person who used hashtags to the list of names.\n",
    "        temp_hashtags = [] #Reset the temporary list.\n",
    "\n",
    "user_hashtag_net = nx.DiGraph() #Creates a directed graph called user_hashtag_net.\n",
    "\n",
    "hash_names = [\"@\" + name for name in hash_names] #Adds an '@' sign before each username.\n",
    "\n",
    "for i in range(0,len(hash_names)): #For loop to iterate through all of the names of those who used hashtags others.\n",
    "    for x in range (0,len(hashtags[i])): #Nested for loop to iterate through the list of hashtags.\n",
    "        if user_hashtag_net.has_edge(hash_names[i], hashtags[i][x]):  #If there is already an edge between two names.\n",
    "            user_hashtag_net[hash_names[i]] [hashtags[i][x]]['weight']+=1 #Increase the edge weight by 1.\n",
    "        else:\n",
    "            user_hashtag_net.add_edge(hash_names[i], hashtags[i][x], weight = 1) #Else create a new edge with weight 1.\n",
    "\n",
    "degrees = user_hashtag_net.degree() #Creates a list of degrees.\n",
    "nodes = user_hashtag_net.nodes() #Creates a list of nodes.\n",
    "n_color = np.asarray([degrees[n] for n in nodes]) #Creates a list of colours based on the degree of the node.\n",
    "            \n",
    "rcParams['figure.figsize'] = 10,10\n",
    "nx.draw_spring(user_hashtag_net, node_size=50, width=0.2) #Draws the graph and sets node size, edge weight and labels.\n",
    "#nx.draw_spring(user_hashtag_net, node_size=50, width=0.2, node_color=n_color, cmap='plasma') #Draws the same graph with nodes coloured by degree."
   ]
  },
  {
   "cell_type": "code",
   "execution_count": null,
   "metadata": {
    "scrolled": false
   },
   "outputs": [],
   "source": [
    "print(color.RED+color.BOLD+color.UNDERLINE+ 'Question 4 - User-Hashtag Network Characteristics:\\n' + color.END) #Prints the title of the block.\n",
    "\n",
    "#for e in user_hashtag_net.edges(data=True): #Prints all edges and weights of the User-Hashtag network.\n",
    "#    print(e)\n",
    "\n",
    "print(\"This network has %d nodes and %d edges\" % (user_hashtag_net.number_of_nodes(), user_hashtag_net.number_of_edges())) #Finds the number of nodes and edges in the network.\n",
    "print(\"The Density of this network is: %.4f\" % nx.density(user_hashtag_net) ) #Finds the density of the network.\n",
    "print(\"Is this network bipartite: %r\\n\" % nx.is_bipartite(user_hashtag_net)) #Checks if the network is bipartite.\n",
    "\n",
    "top10_attributes(user_hashtag_net,'degree_centrality') #Calls our top10_attributes function for 'follower_net' and 'degree_centrality'.\n",
    "#top10_attributes(user_hashtag_net,'betweenness_centrality') #Calls our top10_attributes function for 'follower_net' and 'betweenness_centrality'.\n",
    "#top10_attributes(user_hashtag_net,'out_degree')\n",
    "top10_attributes(user_hashtag_net,'weighted_out_degree')"
   ]
  },
  {
   "cell_type": "markdown",
   "metadata": {},
   "source": [
    "\\\n",
    "**Question 4 - Code Description**\\\n",
    "\\\n",
    "For the above block of code, I began by creating three empty lists necessary for cleaning the dataset and isolating specific lines of data. After this, I used a nested `for` loop to iterate through the list of tweets and isolate the hashtags used in any given tweet. I appended this hashtag to a list of hashtags that had been used, and appended the name of the author of the tweet to another list. I added an `@` sign to the beginning of each user in order to make sure that the network would be bipartite because the screen name of some users where also used as hashtags. I then created a directed graph, and used another `for` loop to add edges between the two previously mentioned lists. If an edge already exists, the weight is increased by one, and if it does not exist it is created with an initial weight of one. Finally, I set the parameters for the network graph and printed it in a spring layout.\\\n",
    "\\\n",
    "In order to characterise this network, I began by writing a `for` loop that outputs all edges and weights from the network graph. I then found the number of nodes and edges, along with the density of the network. I also used a query to check whether the network is bipartite or not. I then wrote a small piece of code that outputs the top 10 out-degrees along with a graph representation. Finally, I called four instances of the `top10_attributes` function to print the degree centrality and betweenness centrality of the network."
   ]
  },
  {
   "cell_type": "code",
   "execution_count": null,
   "metadata": {},
   "outputs": [],
   "source": [
    "print(color.RED+color.BOLD+color.UNDERLINE+ 'Question 5 - Hashtag Co-Occurence Network:' + color.END) #Prints the title of the block.\n",
    "\n",
    "hash_index = dict(enumerate(hashtags)) #Creates a dictionary with index as key and hashtag as value from the list of hashtags.\n",
    "\n",
    "hashtag_co_net = nx.Graph() #Creates an undirected network.\n",
    "for idx in hash_index: #For loop to iterate through indexes in the hash_index dictionary.\n",
    "    for pair in itertools.combinations(hash_index[idx], r=2): #Get all unique pairs of hashtags from the tweets.\n",
    "        if hashtag_co_net.has_edge(pair[0], pair[1]): #If there is already an edge between two hashtags.\n",
    "            hashtag_co_net[pair[0]][pair[1]][\"weight\"] += 1 #Increase the edge weight by 1.\n",
    "        else:\n",
    "            hashtag_co_net.add_edge(pair[0], pair[1], weight=1) #Else create a new edge with weight 1.        \n",
    "\n",
    "rcParams['figure.figsize'] = 8,8\n",
    "nx.draw_spring(hashtag_co_net, node_size=20, width=0.2) #Draws the graph and sets node size, edge weight and labels."
   ]
  },
  {
   "cell_type": "code",
   "execution_count": null,
   "metadata": {},
   "outputs": [],
   "source": [
    "print(color.RED+color.BOLD+color.UNDERLINE+ 'Question 5 - Hashtag Co-Occurrence Network Characteristics:\\n' + color.END) #Prints the title of the block.\n",
    "\n",
    "#for e in hashtag_co_net.edges(data=True): #Prints all edges and weights of the Co-Occurence Hashtag network.\n",
    "#    print(e)\n",
    "\n",
    "print(\"This network has %d nodes and %d edges\" % (hashtag_co_net.number_of_nodes(), hashtag_co_net.number_of_edges())) #Finds the number of nodes and edges in the network.\n",
    "print(\"The Density of this network is: %.4f\" % nx.density(hashtag_co_net) ) #Finds the density of the network.\n",
    "print(\"This network has %d componenets\" % nx.number_connected_components(hashtag_co_net))#Finds the number of connected components in the network.\n",
    "print(\"Is this network connected: %s\\n\" % (nx.is_connected(hashtag_co_net))) #Checks if the network is connected.\n",
    "\n",
    "top10_attributes(hashtag_co_net,'betweenness_centrality') #Calls our top10_attributes function for 'follower_net' and 'betweenness_centrality'."
   ]
  },
  {
   "cell_type": "markdown",
   "metadata": {},
   "source": [
    "\\\n",
    "**Question 5 - Code Description**\\\n",
    "\\\n",
    "For the above block of code, I used the same list of users and hashtags from the `user_hashtag_net` network. I began by adding an index to the list of hashtags using the `dict` and `enumerate` functions. I then created an undirected graph, and used a `for` loop to add edges between the two previously mentioned lists. I used an `if` statement and the `itertools.combinations` function to recognise (index, hashtag) pairs. If an edge already exists, the weight is increased by one, and if it does not exist it is created with an initial weight of one. Finally, I set the parameters for the network graph and printed it in a spring layout.\\\n",
    "\\\n",
    "In order to characterise this network, I began by writing a `for` loop that outputs all edges and weights from the network graph. I then found the number of nodes and edges, along with the density of the network. I also used a query to count how many components where in the network, and used another query to check whether the network is connected or not. Finally, I called one instance of the `top10_attributes` function to print the degree centrality and betweenness centrality of the network."
   ]
  },
  {
   "cell_type": "code",
   "execution_count": null,
   "metadata": {},
   "outputs": [],
   "source": []
  }
 ],
 "metadata": {
  "kernelspec": {
   "display_name": "Python 3",
   "language": "python",
   "name": "python3"
  },
  "language_info": {
   "codemirror_mode": {
    "name": "ipython",
    "version": 3
   },
   "file_extension": ".py",
   "mimetype": "text/x-python",
   "name": "python",
   "nbconvert_exporter": "python",
   "pygments_lexer": "ipython3",
   "version": "3.8.5"
  }
 },
 "nbformat": 4,
 "nbformat_minor": 4
}
